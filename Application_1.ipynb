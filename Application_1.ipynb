{
  "nbformat": 4,
  "nbformat_minor": 0,
  "metadata": {
    "colab": {
      "provenance": [],
      "authorship_tag": "ABX9TyO4/cA3dCG4G2F4hjAfuSb1",
      "include_colab_link": true
    },
    "kernelspec": {
      "name": "python3",
      "display_name": "Python 3"
    },
    "language_info": {
      "name": "python"
    }
  },
  "cells": [
    {
      "cell_type": "markdown",
      "metadata": {
        "id": "view-in-github",
        "colab_type": "text"
      },
      "source": [
        "<a href=\"https://colab.research.google.com/github/JustinneManla/PLNG211-QC/blob/main/Application_1.ipynb\" target=\"_parent\"><img src=\"https://colab.research.google.com/assets/colab-badge.svg\" alt=\"Open In Colab\"/></a>"
      ]
    },
    {
      "cell_type": "code",
      "execution_count": 6,
      "metadata": {
        "colab": {
          "base_uri": "https://localhost:8080/"
        },
        "id": "TQpGdotlY-Ph",
        "outputId": "139fe8dc-314a-404c-e69f-4d282cfadbac"
      },
      "outputs": [
        {
          "output_type": "stream",
          "name": "stdout",
          "text": [
            "Enter the length of the Rectangle: 25\n",
            "Enter the width of the Rectangle: 15\n",
            "Rectangle object details are: \n",
            "Lenght of the Rectangle is:  25\n",
            "Width of the Rectangle is:  15\n",
            "\n",
            "Area of the rectangle is:  375\n",
            "\n",
            "Perimeter of the rectangle is:  80\n"
          ]
        }
      ],
      "source": [
        "#Application 1. Write a Rectangle class in Python language with length and width as attributes\n",
        "#Create a Perimeter () and Area () as methods to compute for the perimeter and area of a rectangle\n",
        "\n",
        "class Rectangle:\n",
        "  def __init__(self, length, width):\n",
        "    self.length = length\n",
        "    self.width = width\n",
        "\n",
        "  def display(self):\n",
        "    print(\"Lenght of the Rectangle is: \",self.length)\n",
        "    print(\"Width of the Rectangle is: \",self.width)\n",
        "\n",
        "  def area(self):\n",
        "    return (self.length*self.width)\n",
        "  \n",
        "  def perimeter(self):\n",
        "    return (2*self.length + 2*self.width)\n",
        "  \n",
        "l = int (input(\"Enter the length of the Rectangle: \"))\n",
        "w = int (input(\"Enter the width of the Rectangle: \"))\n",
        "\n",
        "rec = Rectangle(l,w)\n",
        "print(\"Rectangle object details are: \")\n",
        "rec.display()\n",
        "print(\"\")\n",
        "print(\"Area of the rectangle is: \",rec.area())\n",
        "print(\"\")\n",
        "print(\"Perimeter of the rectangle is: \",rec.perimeter())\n",
        "\n",
        "\n",
        "\n"
      ]
    }
  ]
}