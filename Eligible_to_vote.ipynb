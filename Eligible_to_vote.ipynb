{
  "nbformat": 4,
  "nbformat_minor": 0,
  "metadata": {
    "colab": {
      "provenance": [],
      "authorship_tag": "ABX9TyNeSgJL7LMT71NZnx/pTRP3",
      "include_colab_link": true
    },
    "kernelspec": {
      "name": "python3",
      "display_name": "Python 3"
    },
    "language_info": {
      "name": "python"
    }
  },
  "cells": [
    {
      "cell_type": "markdown",
      "metadata": {
        "id": "view-in-github",
        "colab_type": "text"
      },
      "source": [
        "<a href=\"https://colab.research.google.com/github/JustinneManla/PLNG211-QC/blob/main/Eligible_to_vote.ipynb\" target=\"_parent\"><img src=\"https://colab.research.google.com/assets/colab-badge.svg\" alt=\"Open In Colab\"/></a>"
      ]
    },
    {
      "cell_type": "code",
      "execution_count": 2,
      "metadata": {
        "colab": {
          "base_uri": "https://localhost:8080/"
        },
        "id": "rYPMNuJFcQ4u",
        "outputId": "7fe43d5f-e76a-41f7-c5f2-b3fd8114327b"
      },
      "outputs": [
        {
          "output_type": "stream",
          "name": "stdout",
          "text": [
            "Enter age: 18\n",
            "Age is qualified\n"
          ]
        }
      ],
      "source": [
        "age = input(\"Enter age: \")\n",
        "if int(age)<18:\n",
        "  print(\"Age is not qualified\")\n",
        "elif int(age)>=18:\n",
        "  print(\"Age is qualified\")"
      ]
    }
  ]
}