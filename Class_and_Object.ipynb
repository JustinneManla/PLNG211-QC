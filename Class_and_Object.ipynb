{
  "nbformat": 4,
  "nbformat_minor": 0,
  "metadata": {
    "colab": {
      "provenance": [],
      "authorship_tag": "ABX9TyP5uqVMw6v73P/gsT5SKBKY",
      "include_colab_link": true
    },
    "kernelspec": {
      "name": "python3",
      "display_name": "Python 3"
    },
    "language_info": {
      "name": "python"
    }
  },
  "cells": [
    {
      "cell_type": "markdown",
      "metadata": {
        "id": "view-in-github",
        "colab_type": "text"
      },
      "source": [
        "<a href=\"https://colab.research.google.com/github/JustinneManla/PLNG211-QC/blob/main/Class_and_Object.ipynb\" target=\"_parent\"><img src=\"https://colab.research.google.com/assets/colab-badge.svg\" alt=\"Open In Colab\"/></a>"
      ]
    },
    {
      "cell_type": "code",
      "execution_count": 6,
      "metadata": {
        "colab": {
          "base_uri": "https://localhost:8080/"
        },
        "id": "lwfzsMaDPvD3",
        "outputId": "7c6a604c-c475-4ac7-a004-0b4c84348e87"
      },
      "outputs": [
        {
          "output_type": "stream",
          "name": "stdout",
          "text": [
            "The name of the person is:  Ana\n",
            "The age of the person is:  36\n",
            "The name of the student is:  Lino\n",
            "The age of the student is:  32\n",
            "The name of the teacher is:  Maria\n",
            "The age of the teacher is:  39\n"
          ]
        }
      ],
      "source": [
        "class Person:\n",
        "  def __init__(self,name,age):\n",
        "    self.name = name               #attributes\n",
        "    self.age = age\n",
        "\n",
        "class Student(Person):\n",
        "  pass\n",
        "\n",
        "class Teacher(Person):\n",
        "  pass\n",
        "  \n",
        "person1 = Person(\"Ana\",36)                    #instantiation/add a value to an attribute\n",
        "print(\"The name of the person is: \",person1.name)\n",
        "print(\"The age of the person is: \",person1.age)\n",
        "\n",
        "person2 = Student(\"Lino\",32)\n",
        "print(\"The name of the student is: \",person2.name)\n",
        "print(\"The age of the student is: \",person2.age)\n",
        "\n",
        "person3 = Teacher(\"Maria\",39)\n",
        "print(\"The name of the teacher is: \",person3.name)\n",
        "print(\"The age of the teacher is: \",person3.age)"
      ]
    },
    {
      "cell_type": "code",
      "source": [
        "person2.age = 30 #Modifying of object properties\n",
        "print(\"The name and age of student\", person2.name + \"\\t\" + \"is\" + \"\\t\" + str(person2.age))\n"
      ],
      "metadata": {
        "colab": {
          "base_uri": "https://localhost:8080/"
        },
        "id": "z9jVFDORVng7",
        "outputId": "589b5fe8-4885-478c-98ef-9f1e266a355c"
      },
      "execution_count": 9,
      "outputs": [
        {
          "output_type": "stream",
          "name": "stdout",
          "text": [
            "The name and age of student Lino\tis\t30\n"
          ]
        }
      ]
    },
    {
      "cell_type": "code",
      "source": [
        "print(\"The name of the teacher is: \",person3.name)\n",
        "person3.age = 39\n",
        "print(\"the age of the teacher is: \",person3.age)\n",
        "\n",
        "del person3.age\n",
        "print(\"the age of the teacher is: \",person3.age)"
      ],
      "metadata": {
        "colab": {
          "base_uri": "https://localhost:8080/",
          "height": 235
        },
        "id": "G-dEuKo2XpFL",
        "outputId": "affa6bbe-586d-4003-bcdb-73f21886fe8e"
      },
      "execution_count": 10,
      "outputs": [
        {
          "output_type": "stream",
          "name": "stdout",
          "text": [
            "The name of the teacher is:  Maria\n",
            "the age of the teacher is:  39\n"
          ]
        },
        {
          "output_type": "error",
          "ename": "AttributeError",
          "evalue": "ignored",
          "traceback": [
            "\u001b[0;31m---------------------------------------------------------------------------\u001b[0m",
            "\u001b[0;31mAttributeError\u001b[0m                            Traceback (most recent call last)",
            "\u001b[0;32m<ipython-input-10-ba07eb739c3f>\u001b[0m in \u001b[0;36m<module>\u001b[0;34m\u001b[0m\n\u001b[1;32m      4\u001b[0m \u001b[0;34m\u001b[0m\u001b[0m\n\u001b[1;32m      5\u001b[0m \u001b[0;32mdel\u001b[0m \u001b[0mperson3\u001b[0m\u001b[0;34m.\u001b[0m\u001b[0mage\u001b[0m\u001b[0;34m\u001b[0m\u001b[0;34m\u001b[0m\u001b[0m\n\u001b[0;32m----> 6\u001b[0;31m \u001b[0mprint\u001b[0m\u001b[0;34m(\u001b[0m\u001b[0;34m\"the age of the teacher is: \"\u001b[0m\u001b[0;34m,\u001b[0m\u001b[0mperson3\u001b[0m\u001b[0;34m.\u001b[0m\u001b[0mage\u001b[0m\u001b[0;34m)\u001b[0m\u001b[0;34m\u001b[0m\u001b[0;34m\u001b[0m\u001b[0m\n\u001b[0m",
            "\u001b[0;31mAttributeError\u001b[0m: 'Teacher' object has no attribute 'age'"
          ]
        }
      ]
    },
    {
      "cell_type": "code",
      "source": [],
      "metadata": {
        "id": "OzAPo3YRY2_q"
      },
      "execution_count": null,
      "outputs": []
    }
  ]
}