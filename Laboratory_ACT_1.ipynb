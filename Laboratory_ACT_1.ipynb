{
  "nbformat": 4,
  "nbformat_minor": 0,
  "metadata": {
    "colab": {
      "provenance": [],
      "authorship_tag": "ABX9TyMp5IpZhEc6JoE35cxbuCli",
      "include_colab_link": true
    },
    "kernelspec": {
      "name": "python3",
      "display_name": "Python 3"
    },
    "language_info": {
      "name": "python"
    }
  },
  "cells": [
    {
      "cell_type": "markdown",
      "metadata": {
        "id": "view-in-github",
        "colab_type": "text"
      },
      "source": [
        "<a href=\"https://colab.research.google.com/github/JustinneManla/PLNG211-QC/blob/main/Laboratory_ACT_1.ipynb\" target=\"_parent\"><img src=\"https://colab.research.google.com/assets/colab-badge.svg\" alt=\"Open In Colab\"/></a>"
      ]
    },
    {
      "cell_type": "code",
      "execution_count": 16,
      "metadata": {
        "id": "Lunfz_e6KzQc",
        "colab": {
          "base_uri": "https://localhost:8080/"
        },
        "outputId": "4030c853-d14a-49d5-8f38-0adf39b50712"
      },
      "outputs": [
        {
          "output_type": "stream",
          "name": "stdout",
          "text": [
            "Original array: array('i', [1, 2, 3, 4, 5, 6, 7, 8, 9, 10])\n",
            "\n",
            "Append new item at the end of the array: \n",
            "\n",
            "New array: array('i', [1, 2, 3, 4, 5, 6, 7, 8, 9, 10, 11])\n"
          ]
        }
      ],
      "source": [
        "#Write a Python program to append a new item to the end of the array. Original\n",
        "\n",
        "from array import *\n",
        "app_num = array('i', [1, 2, 3, 4, 5, 6, 7, 8, 9, 10])\n",
        "print(\"Original array: \"+str(app_num))\n",
        "print(\"\\nAppend new item at the end of the array: \")\n",
        "app_num.append(11)\n",
        "\n",
        "print(\"\\nNew array: \"+str(app_num))\n"
      ]
    },
    {
      "cell_type": "code",
      "source": [],
      "metadata": {
        "id": "Zb15wIxbRFi8"
      },
      "execution_count": null,
      "outputs": []
    },
    {
      "cell_type": "code",
      "source": [
        "#Write a Python program to create an array of 10 integers and display the array \n",
        "#items. Access individual elements through indexes and compute for the sum.\n",
        "\n",
        "\n",
        "sum_num = array('i', [1, 2, 3, 4, 5, 6, 7, 8, 9, 10])\n",
        "for i in sum_num:\n",
        "    print(i)\n",
        "\n",
        "print(\"Access individual elements thorugh indexes: \")\n",
        "print(sum_num[0])\n",
        "print(sum_num[1])\n",
        "print(sum_num[2])\n",
        "print(sum_num[3])\n",
        "print(sum_num[4])\n",
        "print(sum_num[5])\n",
        "print(sum_num[6])\n",
        "print(sum_num[7])\n",
        "print(sum_num[8])\n",
        "print(sum_num[9])\n",
        "\n",
        "my_list = [1,2,3,4,5,6,7,8,9,10]\n",
        "print(\"The sum of the individual elements through indexes is: \", sum(my_list))\n"
      ],
      "metadata": {
        "colab": {
          "base_uri": "https://localhost:8080/"
        },
        "id": "KYev5gAXRFkq",
        "outputId": "40022d79-dc96-4c20-b056-a5a977e8c798"
      },
      "execution_count": 18,
      "outputs": [
        {
          "output_type": "stream",
          "name": "stdout",
          "text": [
            "1\n",
            "2\n",
            "3\n",
            "4\n",
            "5\n",
            "6\n",
            "7\n",
            "8\n",
            "9\n",
            "10\n",
            "Access individual elements thorugh indexes: \n",
            "1\n",
            "2\n",
            "3\n",
            "4\n",
            "5\n",
            "6\n",
            "7\n",
            "8\n",
            "9\n",
            "10\n",
            "The sum of the individual elements through indexes is:  55\n"
          ]
        }
      ]
    },
    {
      "cell_type": "code",
      "source": [
        "#Write a Python program to insert a new item before the second element in an \n",
        "#existing array. Original array: numbers = [1, 2, 3, 4, 5, 6, 7, 8, 9, 10]\n",
        "\n",
        "from array import *\n",
        "insert_num = array('i', [1, 2, 3, 4, 5, 6, 7, 8, 9, 10])\n",
        "print(\"Original array numbers: \"+str(insert_num))\n",
        "print(\"\\nInsert a new item before the second element\")\n",
        "insert_num.insert(1, 11)\n",
        "print(\"\\nNew array numbers: \"+str(insert_num))"
      ],
      "metadata": {
        "colab": {
          "base_uri": "https://localhost:8080/"
        },
        "id": "h3RIOwFUVpPj",
        "outputId": "fbef72b6-f6db-44d1-e11f-8ed0c6bb4b10"
      },
      "execution_count": 20,
      "outputs": [
        {
          "output_type": "stream",
          "name": "stdout",
          "text": [
            "Original array numbers: array('i', [1, 2, 3, 4, 5, 6, 7, 8, 9, 10])\n",
            "\n",
            "Insert a new item before the second element\n",
            "\n",
            "New array numbers: array('i', [1, 11, 2, 3, 4, 5, 6, 7, 8, 9, 10])\n"
          ]
        }
      ]
    },
    {
      "cell_type": "code",
      "source": [
        "#Write a Python program to reverse the order of the items in the array. Original \n",
        "#array: numbers = [5, 4, 3, 2, 1]\n",
        "\n",
        "from array import *\n",
        "reverse_num = array('i', [5, 4, 3, 2, 1])\n",
        "print(\"Original Array: \"+str(reverse_num))\n",
        "reverse_num.reverse()\n",
        "print(\"\\nReverse the order of the items in the array\")\n",
        "print(str(reverse_num))"
      ],
      "metadata": {
        "colab": {
          "base_uri": "https://localhost:8080/"
        },
        "id": "tUyrLAILVpQZ",
        "outputId": "c2304e41-cea9-4ea6-f469-4c131437a895"
      },
      "execution_count": 22,
      "outputs": [
        {
          "output_type": "stream",
          "name": "stdout",
          "text": [
            "Original Array: array('i', [5, 4, 3, 2, 1])\n",
            "\n",
            "Reverse the order of the items in the array\n",
            "array('i', [1, 2, 3, 4, 5])\n"
          ]
        }
      ]
    },
    {
      "cell_type": "code",
      "source": [
        "#Write a Python program to get the length of the array. Original array: numbers = \n",
        "#[5, 4, 3, 2, 1]\n",
        "\n",
        "from array import *\n",
        "length_num = array('i', [5, 4, 3, 2, 1])\n",
        "print(\"Original array: \"+str(length_num))\n",
        "print(\"\\nLength of the array\")\n",
        "size = len(length_num)\n",
        "print(size)\n",
        "\n",
        "\n",
        "\n",
        "\n",
        "\n"
      ],
      "metadata": {
        "colab": {
          "base_uri": "https://localhost:8080/"
        },
        "id": "hbt-_ZVEZBu-",
        "outputId": "318a3848-ecf8-48bd-dec0-345ddb512cd1"
      },
      "execution_count": 31,
      "outputs": [
        {
          "output_type": "stream",
          "name": "stdout",
          "text": [
            "Original array: array('i', [5, 4, 3, 2, 1])\n",
            "\n",
            "Length of the array\n",
            "5\n"
          ]
        }
      ]
    }
  ]
}