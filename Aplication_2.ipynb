{
  "nbformat": 4,
  "nbformat_minor": 0,
  "metadata": {
    "colab": {
      "provenance": [],
      "authorship_tag": "ABX9TyNwAQORgX/Y3kM+GX8DtjYy",
      "include_colab_link": true
    },
    "kernelspec": {
      "name": "python3",
      "display_name": "Python 3"
    },
    "language_info": {
      "name": "python"
    }
  },
  "cells": [
    {
      "cell_type": "markdown",
      "metadata": {
        "id": "view-in-github",
        "colab_type": "text"
      },
      "source": [
        "<a href=\"https://colab.research.google.com/github/JustinneManla/PLNG211-QC/blob/main/Aplication_2.ipynb\" target=\"_parent\"><img src=\"https://colab.research.google.com/assets/colab-badge.svg\" alt=\"Open In Colab\"/></a>"
      ]
    },
    {
      "cell_type": "code",
      "source": [
        "#Aplication 2. Write a program that determines if the Input number is POSITIVE, NEGATIVE or ZERO."
      ],
      "metadata": {
        "id": "DJn_KF6GkcSN"
      },
      "execution_count": null,
      "outputs": []
    },
    {
      "cell_type": "code",
      "source": [
        "num = input(\"Enter a number: \")\n",
        "if int(num)>0:\n",
        "  print(\"The number is POSITIVE\")\n",
        "elif int(num)<0:\n",
        "  print(\"The number is NEGATIVE\")\n",
        "else:\n",
        "  print(\"The number is ZERO\")"
      ],
      "metadata": {
        "colab": {
          "base_uri": "https://localhost:8080/"
        },
        "id": "Al6LC-skkcTS",
        "outputId": "94a2a21a-8171-4b83-8358-9ef1b3579c24"
      },
      "execution_count": 4,
      "outputs": [
        {
          "output_type": "stream",
          "name": "stdout",
          "text": [
            "Enter a number: 5\n",
            "The number is POSITIVE\n"
          ]
        }
      ]
    }
  ]
}