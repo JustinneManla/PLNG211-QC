{
  "nbformat": 4,
  "nbformat_minor": 0,
  "metadata": {
    "colab": {
      "provenance": [],
      "collapsed_sections": [],
      "authorship_tag": "ABX9TyOSayUrj5RNLEnKUg1Xavwy",
      "include_colab_link": true
    },
    "kernelspec": {
      "name": "python3",
      "display_name": "Python 3"
    },
    "language_info": {
      "name": "python"
    }
  },
  "cells": [
    {
      "cell_type": "markdown",
      "metadata": {
        "id": "view-in-github",
        "colab_type": "text"
      },
      "source": [
        "<a href=\"https://colab.research.google.com/github/JustinneManla/PLNG211-QC/blob/main/Asynchronous_Activity.ipynb\" target=\"_parent\"><img src=\"https://colab.research.google.com/assets/colab-badge.svg\" alt=\"Open In Colab\"/></a>"
      ]
    },
    {
      "cell_type": "code",
      "execution_count": 1,
      "metadata": {
        "colab": {
          "base_uri": "https://localhost:8080/"
        },
        "id": "nuqIZWZhmnOJ",
        "outputId": "dbdb2496-f655-4b77-d555-29c1c1084ab5"
      },
      "outputs": [
        {
          "output_type": "stream",
          "name": "stdout",
          "text": [
            "6300.0\n"
          ]
        }
      ],
      "source": [
        "#Asynchronous Activity\n",
        "\n",
        "Salary_rate = 600\n",
        "Salary=Salary_rate * 15\n",
        "Taxable_amount = Salary* .30\n",
        "Net_pay=Salary-Taxable_amount\n",
        "print(Net_pay)"
      ]
    }
  ]
}