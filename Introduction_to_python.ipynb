{
  "nbformat": 4,
  "nbformat_minor": 0,
  "metadata": {
    "colab": {
      "provenance": [],
      "collapsed_sections": [],
      "mount_file_id": "1rPO_1FSrL219fhSka-xuRy8-z-luYm6a",
      "authorship_tag": "ABX9TyMaNpSObzH2Epz/mA1BoxMK",
      "include_colab_link": true
    },
    "kernelspec": {
      "name": "python3",
      "display_name": "Python 3"
    },
    "language_info": {
      "name": "python"
    }
  },
  "cells": [
    {
      "cell_type": "markdown",
      "metadata": {
        "id": "view-in-github",
        "colab_type": "text"
      },
      "source": [
        "<a href=\"https://colab.research.google.com/github/JustinneManla/PLNG211-QC/blob/main/Introduction_to_python.ipynb\" target=\"_parent\"><img src=\"https://colab.research.google.com/assets/colab-badge.svg\" alt=\"Open In Colab\"/></a>"
      ]
    },
    {
      "cell_type": "markdown",
      "source": [
        "Python Indentation\n"
      ],
      "metadata": {
        "id": "Xyij9fA_wQIl"
      }
    },
    {
      "cell_type": "markdown",
      "source": [
        "# New Section"
      ],
      "metadata": {
        "id": "Dh7wqho8MjUy"
      }
    },
    {
      "cell_type": "markdown",
      "source": [],
      "metadata": {
        "id": "aoWXScvsCcQc"
      }
    },
    {
      "cell_type": "code",
      "source": [
        "#Python Indentation example (labeling)\n",
        "\n",
        "if 5>2:\n",
        "  print(\"5 is greater than 2\")"
      ],
      "metadata": {
        "colab": {
          "base_uri": "https://localhost:8080/"
        },
        "id": "yqDU_OQQ_r94",
        "outputId": "3a872cf6-1f71-4d9e-80ac-c35fce833aee"
      },
      "execution_count": null,
      "outputs": [
        {
          "output_type": "stream",
          "name": "stdout",
          "text": [
            "5 is greater than 2\n"
          ]
        }
      ]
    },
    {
      "cell_type": "markdown",
      "source": [
        "Python Variables\n"
      ],
      "metadata": {
        "id": "1PXWApat_7H9"
      }
    },
    {
      "cell_type": "code",
      "source": [
        "x =1\n",
        "a, b = 0,-1\n",
        "print(a)\n",
        "c = \"Sally\"\n",
        "c = \"Danny\"\n",
        "#Code is read by line so the newer declaration will be read.\n",
        "print(c)\n",
        "c = \"Maria\""
      ],
      "metadata": {
        "colab": {
          "base_uri": "https://localhost:8080/"
        },
        "id": "eVa6EK4wAAQ2",
        "outputId": "e7c497b5-8d69-4da1-cd3b-28d4d7eb23eb"
      },
      "execution_count": null,
      "outputs": [
        {
          "output_type": "stream",
          "name": "stdout",
          "text": [
            "0\n",
            "Danny\n"
          ]
        }
      ]
    },
    {
      "cell_type": "markdown",
      "source": [],
      "metadata": {
        "id": "tb3fImzJAb_E"
      }
    },
    {
      "cell_type": "code",
      "source": [
        "print(c)\n",
        "#Code cell will print latest (c) declaration from previous cell."
      ],
      "metadata": {
        "colab": {
          "base_uri": "https://localhost:8080/"
        },
        "id": "3zytl_aJAc0P",
        "outputId": "e85160ba-600c-4b70-f1a0-31fc702571fa"
      },
      "execution_count": null,
      "outputs": [
        {
          "output_type": "stream",
          "name": "stdout",
          "text": [
            "Maria\n"
          ]
        }
      ]
    },
    {
      "cell_type": "markdown",
      "source": [
        "Multiple Variables"
      ],
      "metadata": {
        "id": "h-bh7sy2Cdr3"
      }
    },
    {
      "cell_type": "code",
      "source": [
        " #Multiple variables with declaration in a single line.\n",
        " f, g, h = \"one\", \"two\", \"three\"\n",
        " print(f)\n",
        " print(g)\n",
        " print(h)"
      ],
      "metadata": {
        "colab": {
          "base_uri": "https://localhost:8080/"
        },
        "id": "YFYPXJ6lCjSK",
        "outputId": "715493ff-1503-46f4-dc01-5e26c4afbf86"
      },
      "execution_count": null,
      "outputs": [
        {
          "output_type": "stream",
          "name": "stdout",
          "text": [
            "one\n",
            "two\n",
            "three\n"
          ]
        }
      ]
    },
    {
      "cell_type": "markdown",
      "source": [
        "Python Casting\n"
      ],
      "metadata": {
        "id": "EgnX9Jw-C9-f"
      }
    },
    {
      "cell_type": "code",
      "source": [
        "#Explicit type casting\n",
        "#Python needs user involvement to convert the variable data type into certain data type.\n",
        "d = int(4)\n",
        "print(d)\n",
        "e = float(4)\n",
        "print(e)"
      ],
      "metadata": {
        "colab": {
          "base_uri": "https://localhost:8080/"
        },
        "id": "6zIxPZOYDHhV",
        "outputId": "4007841b-8b10-4889-b6fe-f80a4bdf31ef"
      },
      "execution_count": null,
      "outputs": [
        {
          "output_type": "stream",
          "name": "stdout",
          "text": [
            "4\n",
            "4.0\n"
          ]
        }
      ]
    },
    {
      "cell_type": "markdown",
      "source": [],
      "metadata": {
        "id": "KAn8MZy2Dnds"
      }
    },
    {
      "cell_type": "code",
      "source": [
        "#Implicit type casting\n",
        "#Python automatically converts data types.\n",
        "d = 4.0\n",
        "e = 4\n",
        "print(type(d))\n",
        "print(type(e))"
      ],
      "metadata": {
        "colab": {
          "base_uri": "https://localhost:8080/"
        },
        "id": "V2NcWeXqDoZT",
        "outputId": "ba5cf718-8897-4bd9-d1c5-2b33c7c45010"
      },
      "execution_count": null,
      "outputs": [
        {
          "output_type": "stream",
          "name": "stdout",
          "text": [
            "<class 'float'>\n",
            "<class 'int'>\n"
          ]
        }
      ]
    },
    {
      "cell_type": "markdown",
      "source": [],
      "metadata": {
        "id": "6dqWneATEIGf"
      }
    },
    {
      "cell_type": "markdown",
      "source": [
        "Single Quote or Double Quote"
      ],
      "metadata": {
        "id": "3Wnbjmc1EIHf"
      }
    },
    {
      "cell_type": "code",
      "source": [
        "print('Look')\n",
        "print(\"Look\")\n",
        "#Single or double quotation in python is interchangable."
      ],
      "metadata": {
        "colab": {
          "base_uri": "https://localhost:8080/"
        },
        "id": "ZYahqdspEVd9",
        "outputId": "5eea2c5c-30b9-4d51-9673-96233a2bb2de"
      },
      "execution_count": null,
      "outputs": [
        {
          "output_type": "stream",
          "name": "stdout",
          "text": [
            "Look\n",
            "Look\n"
          ]
        }
      ]
    },
    {
      "cell_type": "markdown",
      "source": [
        "Single Value to Multiples Variables"
      ],
      "metadata": {
        "id": "3iRk-1YBEnuS"
      }
    },
    {
      "cell_type": "code",
      "source": [
        "#Since x is equal to y and z, a single value can be stored in multiple variables in the declaration.\n",
        "x=y=z=\"Lilo\"\n",
        "print(x)\n",
        "print(y)\n",
        "print(y)"
      ],
      "metadata": {
        "colab": {
          "base_uri": "https://localhost:8080/"
        },
        "id": "NYy_sNxOEsbD",
        "outputId": "13643845-db2f-4055-8e73-3b9c23287ad6"
      },
      "execution_count": null,
      "outputs": [
        {
          "output_type": "stream",
          "name": "stdout",
          "text": [
            "Lilo\n",
            "Lilo\n",
            "Lilo\n"
          ]
        }
      ]
    },
    {
      "cell_type": "markdown",
      "source": [
        "Output Variables"
      ],
      "metadata": {
        "id": "Pozjh2wgFDij"
      }
    },
    {
      "cell_type": "code",
      "source": [
        "#Print displays output of variables.\n",
        "s = \"Python\"\n",
        "t = \"is\"\n",
        "r = \"fun\"\n",
        "print(s + t + r)\n",
        "#No blank space declared in the variables. Can be added with a single/double quoation in the equation.\n",
        "print (s +' ' +  t  + ' '+ r)"
      ],
      "metadata": {
        "colab": {
          "base_uri": "https://localhost:8080/"
        },
        "id": "7VzTPtSsFICj",
        "outputId": "457b8031-c6f4-40f9-b7cc-b8430cf2090d"
      },
      "execution_count": null,
      "outputs": [
        {
          "output_type": "stream",
          "name": "stdout",
          "text": [
            "Pythonisfun\n",
            "Python is fun\n"
          ]
        }
      ]
    },
    {
      "cell_type": "markdown",
      "source": [
        "Arithmetics\n",
        "\n",
        "\n"
      ],
      "metadata": {
        "id": "rM7DeVOJGYck"
      }
    },
    {
      "cell_type": "code",
      "source": [
        "from re import I\n",
        "u = 5\n",
        "i = 4\n",
        "sum = u + i\n",
        "#Values will be declared in the variable sum\n",
        "print(sum)\n",
        "\n",
        "#Modulo division\n",
        "l = 4%2\n",
        "print(\"4%2\", l)\n",
        "\n",
        "#Floor division\n",
        "k = 3//2\n",
        "print(\"3//2\", k)\n"
      ],
      "metadata": {
        "colab": {
          "base_uri": "https://localhost:8080/"
        },
        "id": "Zqi4lPRIGcTb",
        "outputId": "5c6d0389-25d1-4093-d43c-c39988583262"
      },
      "execution_count": null,
      "outputs": [
        {
          "output_type": "stream",
          "name": "stdout",
          "text": [
            "9\n",
            "4%2 0\n",
            "3//2 1\n"
          ]
        }
      ]
    }
  ]
}