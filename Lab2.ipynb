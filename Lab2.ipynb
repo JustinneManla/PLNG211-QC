{
  "nbformat": 4,
  "nbformat_minor": 0,
  "metadata": {
    "colab": {
      "provenance": [],
      "authorship_tag": "ABX9TyO0majSEvO84iKvqX70ysGc",
      "include_colab_link": true
    },
    "kernelspec": {
      "name": "python3",
      "display_name": "Python 3"
    },
    "language_info": {
      "name": "python"
    }
  },
  "cells": [
    {
      "cell_type": "markdown",
      "metadata": {
        "id": "view-in-github",
        "colab_type": "text"
      },
      "source": [
        "<a href=\"https://colab.research.google.com/github/JustinneManla/PLNG211-QC/blob/main/Lab2.ipynb\" target=\"_parent\"><img src=\"https://colab.research.google.com/assets/colab-badge.svg\" alt=\"Open In Colab\"/></a>"
      ]
    },
    {
      "cell_type": "code",
      "execution_count": 1,
      "metadata": {
        "colab": {
          "base_uri": "https://localhost:8080/"
        },
        "id": "AvCkICXjiwcc",
        "outputId": "1cc5e75f-fc0c-4531-d22e-357d9a1b2ac1"
      },
      "outputs": [
        {
          "output_type": "stream",
          "name": "stdout",
          "text": [
            "sum = 210\n",
            "Average =  10.5\n"
          ]
        }
      ],
      "source": [
        "n = 20\n",
        "total_numbers = n\n",
        "sum = 0\n",
        "while n >= 0:\n",
        "  sum += n\n",
        "  n -= 1\n",
        "print(\"sum =\", sum)\n",
        "average = sum / total_numbers\n",
        "print(\"Average = \", average)"
      ]
    }
  ]
}