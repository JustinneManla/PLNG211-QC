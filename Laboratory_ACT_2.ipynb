{
  "nbformat": 4,
  "nbformat_minor": 0,
  "metadata": {
    "colab": {
      "provenance": [],
      "authorship_tag": "ABX9TyPd3zvsmsndZqIbm4Wyk4vC",
      "include_colab_link": true
    },
    "kernelspec": {
      "name": "python3",
      "display_name": "Python 3"
    },
    "language_info": {
      "name": "python"
    }
  },
  "cells": [
    {
      "cell_type": "markdown",
      "metadata": {
        "id": "view-in-github",
        "colab_type": "text"
      },
      "source": [
        "<a href=\"https://colab.research.google.com/github/JustinneManla/PLNG211-QC/blob/main/Laboratory_ACT_2.ipynb\" target=\"_parent\"><img src=\"https://colab.research.google.com/assets/colab-badge.svg\" alt=\"Open In Colab\"/></a>"
      ]
    },
    {
      "cell_type": "code",
      "execution_count": 15,
      "metadata": {
        "colab": {
          "base_uri": "https://localhost:8080/"
        },
        "id": "zOv7VGvxB5s5",
        "outputId": "0b823582-05ca-457b-98ad-fa3e9a71817c"
      },
      "outputs": [
        {
          "output_type": "stream",
          "name": "stdout",
          "text": [
            "Hello my Name is Justinne Pilar U. Manla\n",
            "My Student Number is  2210002285\n",
            "My Age is  20\n",
            "I go to Our Lady Of Fatima University\n",
            "And my Course is Bachelor in Science in Computer Science\n"
          ]
        }
      ],
      "source": [
        "Name = \"Justinne Pilar U. Manla\"\n",
        "Student_No = 2210002285\n",
        "Age = 20\n",
        "School = \"Our Lady Of Fatima University\"\n",
        "Course = \"Bachelor in Science in Computer Science\"\n",
        "#2\n",
        "class Student:\n",
        "  def __init__(self,Name, Student_No, Age,School,Course):\n",
        "    self.Name = Name\n",
        "    self.Student_No = Student_No\n",
        "    self.Age = Age\n",
        "    self.School = School\n",
        "    self.Course = Course\n",
        "  #4\n",
        "  def info(self):\n",
        "    print(\"Hello my Name is \"+self.Name)\n",
        "    print(\"My Student Number is \",self.Student_No)\n",
        "    print(\"My Age is \",self.Age)\n",
        "    print(\"I go to \"+self.School)\n",
        "    print(\"And my Course is \"+self.Course)\n",
        "#3\n",
        "Myself = Student(Name,Student_No,Age,School,Course)\n",
        "Name = \"Justinne Manla\"\n",
        "Student_No = 2210002285\n",
        "Age = 20\n",
        "School = \"OLFU\"\n",
        "Course = \"BSCS\"\n",
        "\n",
        "#4\n",
        "Myself.info()\n",
        "def info(self):\n",
        "    print(\"Hello my Name is \"+self.Name)\n",
        "    print(\"My Student Number is \",self.Student_No)\n",
        "    print(\"My Age is \",self.Age)\n",
        "    print(\"I go to \"+self.School)\n",
        "    print(\"And my Course is \"+self.Course)\n",
        "\n",
        "\n",
        " "
      ]
    }
  ]
}